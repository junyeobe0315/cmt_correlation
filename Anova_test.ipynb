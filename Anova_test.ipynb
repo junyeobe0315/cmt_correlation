{
 "cells": [
  {
   "cell_type": "code",
   "execution_count": 36,
   "id": "e2aa461b",
   "metadata": {
    "scrolled": false
   },
   "outputs": [
    {
     "name": "stderr",
     "output_type": "stream",
     "text": [
      "100%|████████████████████████████████████████████████████████████████████████████████████████████████████████████████████████████████████████| 19122/19122 [00:00<00:00, 40712.05it/s]\n",
      "  0%|                                                                                                                                                       | 0/19122 [00:00<?, ?it/s]/opt/anaconda3/envs/python/lib/python3.10/site-packages/scipy/stats/_stats_py.py:3906: ConstantInputWarning: Each of the input arrays is constant;the F statistic is not defined or infinite\n",
      "  warnings.warn(stats.ConstantInputWarning(msg))\n",
      "100%|███████████████████████████████████████████████████████████████████████████████████████████████████████████████████████████████████████| 19122/19122 [00:00<00:00, 661063.10it/s]\n"
     ]
    },
    {
     "name": "stdout",
     "output_type": "stream",
     "text": [
      "          FC929-1  FC1039-1  FC344-1  FC897-1  FC1127-3  FC274-1  FC1207-1  \\\n",
      "3446935     0.833     1.000    0.917    0.944     0.920    1.000     0.500   \n",
      "3447028     0.621     1.000    0.690    0.545     0.600    0.652     1.000   \n",
      "4867601     0.043     0.000    0.028    0.000     0.038    0.054     0.077   \n",
      "4867631     0.028     0.100    0.095    0.074     0.119    0.039     0.143   \n",
      "4867635     0.075     0.100    0.116    0.067     0.163    0.000     0.400   \n",
      "...           ...       ...      ...      ...       ...      ...       ...   \n",
      "59030963    0.667     0.667    0.729    0.576     0.755    0.750     0.688   \n",
      "59030977    0.700     0.634    0.674    0.406     0.755    0.703     0.389   \n",
      "59031179    0.655     0.610    0.560    0.763     0.646    0.610     0.633   \n",
      "59031194    0.516     0.500    0.590    0.571     0.575    0.508     0.656   \n",
      "59032572    0.538     0.286    0.390    0.411     0.505    0.530     0.364   \n",
      "\n",
      "          FC1181-1  FC573-1  FC995-1  ...  FC316-2  FC317-30  FC394-3  \\\n",
      "3446935      1.000    1.000    0.500  ...    1.000     1.000    1.000   \n",
      "3447028      0.222    0.333    0.000  ...    0.528     0.528    0.528   \n",
      "4867601      0.250    0.062    0.000  ...      NaN       NaN      NaN   \n",
      "4867631      0.154    0.111    0.667  ...    0.088     0.088    0.088   \n",
      "4867635      0.115    0.111    0.667  ...    0.081     0.081    0.081   \n",
      "...            ...      ...      ...  ...      ...       ...      ...   \n",
      "59030963     0.727    0.769    0.800  ...    0.696     0.696    0.696   \n",
      "59030977     0.714    0.500    0.667  ...    0.613     0.613    0.613   \n",
      "59031179     0.676    0.617    0.538  ...    0.600     0.600    0.600   \n",
      "59031194     0.471    0.534    0.607  ...    0.516     0.516    0.516   \n",
      "59032572     0.286    0.464    0.450  ...    0.321     0.321    0.321   \n",
      "\n",
      "          FC433-3  FC476-3  FC640-4  FC701-10  FC732-2  F statistic   p value  \n",
      "3446935     1.000    1.000    0.914     1.000    1.000     2.852634  0.073423  \n",
      "3447028     0.528    0.528    0.537     0.528    0.700     1.478680  0.244080  \n",
      "4867601       NaN      NaN      NaN       NaN      NaN          NaN       NaN  \n",
      "4867631     0.088    0.088    0.129     0.088    0.050     0.638002  0.535365  \n",
      "4867635     0.081    0.081    0.229     0.081    0.000     1.368661  0.269880  \n",
      "...           ...      ...      ...       ...      ...          ...       ...  \n",
      "59030963    0.696    0.696    0.831     0.696    0.756     0.014509  0.985603  \n",
      "59030977    0.613    0.613    0.634     0.613    0.731     1.331123  0.279337  \n",
      "59031179    0.600    0.600    0.622     0.600    0.661     1.980848  0.155589  \n",
      "59031194    0.516    0.516    0.500     0.516    0.647     1.919617  0.164252  \n",
      "59032572    0.321    0.321    0.362     0.321    0.435     5.828714  0.007268  \n",
      "\n",
      "[156 rows x 35 columns]\n"
     ]
    }
   ],
   "source": [
    "import pandas as pd\n",
    "file_name = \"chr24\"\n",
    "file = \"./anova/dataset/ANOVA_{}.csv\".format(file_name)\n",
    "\n",
    "data = pd.read_csv(file, low_memory=False)\n",
    "pos = data.iloc[:,0].tolist()\n",
    "name = data.columns.tolist()\n",
    "data = data.iloc[:,1:]\n",
    "name = name[1:]\n",
    "\n",
    "from tqdm import tqdm\n",
    "\n",
    "denovo = {}\n",
    "non_denovo = {}\n",
    "control = {}\n",
    "\n",
    "for i in tqdm(range(data.shape[0])):\n",
    "    p = pos[i]\n",
    "    met = data.iloc[i,:].values.tolist()\n",
    "    denovo[p] = met[0:11]\n",
    "    non_denovo[p] = met[11:22]\n",
    "    control[p] = met[22:33]\n",
    "\n",
    "import scipy\n",
    "\n",
    "count = {}\n",
    "for pos in tqdm(denovo):\n",
    "    try:\n",
    "        g1 = list(map(float,denovo[pos]))\n",
    "        g2 = list(map(float,non_denovo[pos]))\n",
    "        g3 = list(map(float,control[pos]))\n",
    "        F, p = scipy.stats.f_oneway(g1, g2, g3)\n",
    "        # if p < 0.05:\n",
    "            # plot_data = [g1,g2,g3]\n",
    "            # ax = plt.boxplot(plot_data)\n",
    "            # plt.title(\"chr2 / pos : {}\".format(pos))\n",
    "            # plt.show()\n",
    "        count[pos] = []\n",
    "        count[pos].extend(g1)\n",
    "        count[pos].extend(g2)\n",
    "        count[pos].extend(g3)\n",
    "        count[pos].append(F)\n",
    "        count[pos].append(p)\n",
    "        \n",
    "    except:\n",
    "        pass\n",
    "    \n",
    "name.append(\"F statistic\")\n",
    "name.append(\"p value\")\n",
    "data = pd.DataFrame(count)\n",
    "data = data.T\n",
    "data.columns = name\n",
    "print(data)\n",
    "data.to_csv(\"./anova/final/{}.csv\".format(file_name))"
   ]
  },
  {
   "cell_type": "code",
   "execution_count": null,
   "id": "1956c1e6",
   "metadata": {},
   "outputs": [],
   "source": []
  }
 ],
 "metadata": {
  "kernelspec": {
   "display_name": "Python 3 (ipykernel)",
   "language": "python",
   "name": "python3"
  },
  "language_info": {
   "codemirror_mode": {
    "name": "ipython",
    "version": 3
   },
   "file_extension": ".py",
   "mimetype": "text/x-python",
   "name": "python",
   "nbconvert_exporter": "python",
   "pygments_lexer": "ipython3",
   "version": "3.10.8"
  },
  "vscode": {
   "interpreter": {
    "hash": "5c7b89af1651d0b8571dde13640ecdccf7d5a6204171d6ab33e7c296e100e08a"
   }
  }
 },
 "nbformat": 4,
 "nbformat_minor": 5
}
