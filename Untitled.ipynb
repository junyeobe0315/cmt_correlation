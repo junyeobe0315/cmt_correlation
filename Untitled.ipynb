{
 "cells": [
  {
   "cell_type": "code",
   "execution_count": 1,
   "id": "e2aa461b",
   "metadata": {},
   "outputs": [],
   "source": [
    "import pandas as pd"
   ]
  },
  {
   "cell_type": "code",
   "execution_count": 2,
   "id": "254d4e8c",
   "metadata": {},
   "outputs": [],
   "source": [
    "file = \"./anova/Anova_chr2.csv\"\n",
    "data = pd.read_csv(file, low_memory=False)\n",
    "pos = data.iloc[:,0].tolist()\n",
    "name = data.columns.tolist()\n",
    "data = data.iloc[:,1:]"
   ]
  },
  {
   "cell_type": "code",
   "execution_count": 3,
   "id": "96c9c717",
   "metadata": {},
   "outputs": [],
   "source": [
    "name = name[1:]"
   ]
  },
  {
   "cell_type": "code",
   "execution_count": 4,
   "id": "2e161f9a",
   "metadata": {},
   "outputs": [
    {
     "name": "stderr",
     "output_type": "stream",
     "text": [
      "100%|██████████████████████████████████████████████████████████████████████████████████████████████████████████████████████████████████████| 451030/451030 [00:11<00:00, 38085.71it/s]\n"
     ]
    }
   ],
   "source": [
    "from tqdm import tqdm\n",
    "\n",
    "denovo = {}\n",
    "non_denovo = {}\n",
    "control = {}\n",
    "\n",
    "for i in tqdm(range(data.shape[0])):\n",
    "    p = pos[i]\n",
    "    met = data.iloc[i,:].values.tolist()\n",
    "    denovo[p] = met[0:11]\n",
    "    non_denovo[p] = met[11:22]\n",
    "    control[p] = met[22:33]\n",
    "    "
   ]
  },
  {
   "cell_type": "code",
   "execution_count": 5,
   "id": "7eb723b7",
   "metadata": {
    "scrolled": true
   },
   "outputs": [
    {
     "name": "stderr",
     "output_type": "stream",
     "text": [
      "/opt/anaconda3/envs/python/lib/python3.10/site-packages/scipy/stats/_stats_py.py:3906: ConstantInputWarning: Each of the input arrays is constant;the F statistic is not defined or infinite\n",
      "  warnings.warn(stats.ConstantInputWarning(msg))\n"
     ]
    }
   ],
   "source": [
    "import matplotlib.pyplot as plt\n",
    "import scipy\n",
    "\n",
    "count = {}\n",
    "for pos in tqdm(denovo):\n",
    "    try:\n",
    "        g1 = list(map(float,denovo[pos]))\n",
    "        g2 = list(map(float,non_denovo[pos]))\n",
    "        g3 = list(map(float,control[pos]))\n",
    "        F, p = scipy.stats.f_oneway(g1, g2, g3)\n",
    "        # if p < 0.05:\n",
    "            # plot_data = [g1,g2,g3]\n",
    "            # ax = plt.boxplot(plot_data)\n",
    "            # plt.title(\"chr2 / pos : {}\".format(pos))\n",
    "            # plt.show()\n",
    "        count[pos] = []\n",
    "        count[pos].extend(g1)\n",
    "        count[pos].extend(g2)\n",
    "        count[pos].extend(g3)\n",
    "        count[pos].append(F)\n",
    "        count[pos].append(p)\n",
    "        \n",
    "    except:\n",
    "        pass\n",
    "    "
   ]
  },
  {
   "cell_type": "code",
   "execution_count": 6,
   "id": "b6febf9e",
   "metadata": {},
   "outputs": [
    {
     "name": "stdout",
     "output_type": "stream",
     "text": [
      "['FC929-1', 'FC1039-1', 'FC344-1', 'FC897-1', 'FC1127-3', 'FC274-1', 'FC1207-1', 'FC1181-1', 'FC573-1', 'FC995-1', 'FC492-1', 'FC655-2', 'FC789-2', 'FC272-7', 'FC700-10', 'FC738-2', 'FC521-10', 'FC487-1', 'FC587-1', 'FC380-1', 'FC339-6', 'FC607-1', 'FC113-4', 'FC189-2', 'FC256-3', 'FC316-2', 'FC317-30', 'FC394-3', 'FC433-3', 'FC476-3', 'FC640-4', 'FC701-10', 'FC732-2', 'F statistic', 'p value']\n"
     ]
    }
   ],
   "source": [
    "name.append(\"F statistic\")\n",
    "name.append(\"p value\")\n",
    "print(name)"
   ]
  },
  {
   "cell_type": "code",
   "execution_count": 8,
   "id": "9c198360",
   "metadata": {},
   "outputs": [],
   "source": [
    "data = pd.DataFrame(count)\n",
    "data = data.T\n",
    "data.columns = name"
   ]
  },
  {
   "cell_type": "code",
   "execution_count": 11,
   "id": "87f1afc1",
   "metadata": {},
   "outputs": [
    {
     "name": "stdout",
     "output_type": "stream",
     "text": [
      "           FC929-1  FC1039-1  FC344-1  FC897-1  FC1127-3  FC274-1  FC1207-1  \\\n",
      "42969        0.952     0.897    0.951    0.839     0.974    0.907     0.944   \n",
      "42999        0.500     0.552    0.400    0.448     0.486    0.333     0.300   \n",
      "43623        0.789     0.706    0.758    0.709     0.738    0.725     0.870   \n",
      "43813        0.911     0.859    0.853    0.864     0.841    0.844     0.950   \n",
      "43922        0.901     0.918    0.917    0.899     0.924    0.970     0.929   \n",
      "...            ...       ...      ...      ...       ...      ...       ...   \n",
      "243036150    0.964     0.961    0.974    0.934     0.948    0.967     0.951   \n",
      "243036277    0.388     0.266    0.402    0.432     0.486    0.376     0.356   \n",
      "243036799    0.860     0.827    0.879    0.821     0.839    0.897     0.816   \n",
      "243036832    0.815     0.804    0.738    0.889     0.817    0.916     0.822   \n",
      "243045435    0.963     0.956    1.000    0.980     0.938    1.000     0.971   \n",
      "\n",
      "           FC1181-1  FC573-1  FC995-1  ...  FC316-2  FC317-30  FC394-3  \\\n",
      "42969         1.000    0.838    0.852  ...    0.818     0.872    0.786   \n",
      "42999         0.308    0.405    0.542  ...    0.415     0.415    0.537   \n",
      "43623         0.933    0.704    0.667  ...    0.825     0.795    0.773   \n",
      "43813         0.774    0.889    0.909  ...    0.840     0.827    0.851   \n",
      "43922         0.852    0.905    0.950  ...    0.924     0.931    0.928   \n",
      "...             ...      ...      ...  ...      ...       ...      ...   \n",
      "243036150     0.933    0.961    0.924  ...    0.962     0.940    0.957   \n",
      "243036277     0.421    0.400    0.484  ...    0.384     0.432    0.250   \n",
      "243036799     0.821    0.856    0.871  ...    0.877     0.881    0.901   \n",
      "243036832     0.816    0.852    0.853  ...    0.783     0.806    0.853   \n",
      "243045435     1.000    0.981    0.933  ...    0.967     0.987    0.985   \n",
      "\n",
      "           FC433-3  FC476-3  FC640-4  FC701-10  FC732-2  F statistic   p value  \n",
      "42969        0.900    0.933    0.804     0.838    0.851     6.226069  0.005474  \n",
      "42999        0.312    0.426    0.383     0.517    0.326     0.443099  0.646178  \n",
      "43623        0.683    0.753    0.589     0.738    0.831     0.812002  0.453488  \n",
      "43813        0.870    0.854    0.883     0.793    0.824     4.356377  0.021828  \n",
      "43922        0.898    0.933    0.927     0.899    0.952     0.374629  0.690716  \n",
      "...            ...      ...      ...       ...      ...          ...       ...  \n",
      "243036150    0.940    0.931    0.953     0.940    0.950     1.411209  0.259573  \n",
      "243036277    0.412    0.462    0.380     0.350    0.352     0.266417  0.767913  \n",
      "243036799    0.846    0.872    0.866     0.843    0.885     1.304038  0.286379  \n",
      "243036832    0.782    0.787    0.745     0.807    0.869     0.938046  0.402571  \n",
      "243045435    0.969    0.985    0.963     0.981    0.964     4.371622  0.021571  \n",
      "\n",
      "[180377 rows x 35 columns]\n"
     ]
    }
   ],
   "source": [
    "print(data)\n",
    "data.to_csv(\"./test.csv\")"
   ]
  },
  {
   "cell_type": "code",
   "execution_count": null,
   "id": "1956c1e6",
   "metadata": {},
   "outputs": [],
   "source": []
  }
 ],
 "metadata": {
  "kernelspec": {
   "display_name": "Python 3 (ipykernel)",
   "language": "python",
   "name": "python3"
  },
  "language_info": {
   "codemirror_mode": {
    "name": "ipython",
    "version": 3
   },
   "file_extension": ".py",
   "mimetype": "text/x-python",
   "name": "python",
   "nbconvert_exporter": "python",
   "pygments_lexer": "ipython3",
   "version": "3.10.8"
  }
 },
 "nbformat": 4,
 "nbformat_minor": 5
}
